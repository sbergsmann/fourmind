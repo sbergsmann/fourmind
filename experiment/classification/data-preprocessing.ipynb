{
 "cells": [
  {
   "cell_type": "code",
   "execution_count": 5,
   "id": "6b69df94",
   "metadata": {},
   "outputs": [
    {
     "name": "stdout",
     "output_type": "stream",
     "text": [
      "Adding c:\\Users\\bergsmann\\code\\turing-game\\fourmind\\experiment to sys.path\n"
     ]
    }
   ],
   "source": [
    "import sys\n",
    "from pathlib import Path\n",
    "\n",
    "parent_folder = str(Path.cwd().parent)\n",
    "print(f\"Adding {parent_folder} to sys.path\")\n",
    "if parent_folder not in sys.path:\n",
    "    sys.path.insert(0, parent_folder)"
   ]
  },
  {
   "cell_type": "code",
   "execution_count": 17,
   "id": "3bf85d42",
   "metadata": {},
   "outputs": [
    {
     "data": {
      "text/plain": [
       "WindowsPath('c:/Users/bergsmann/code/turing-game/fourmind/experiment/daten_severin_20250901.json')"
      ]
     },
     "execution_count": 17,
     "metadata": {},
     "output_type": "execute_result"
    }
   ],
   "source": [
    "RAW_DATA_FILE_PATH = Path(\".\").absolute().parent / \"daten_severin_20250901.json\"\n",
    "RAW_DATA_FILE_PATH"
   ]
  },
  {
   "cell_type": "code",
   "execution_count": 22,
   "id": "8cc2234d",
   "metadata": {},
   "outputs": [],
   "source": [
    "import json\n",
    "from typing import Any\n",
    "\n",
    "from models import GameData\n",
    "\n",
    "with open(RAW_DATA_FILE_PATH, \"r\") as f:\n",
    "    raw_data: dict[str, Any] = json.load(f)\n",
    "\n",
    "data = [GameData(**item) for item in raw_data]  # type: ignore"
   ]
  },
  {
   "cell_type": "code",
   "execution_count": 32,
   "id": "04d11ca2",
   "metadata": {},
   "outputs": [],
   "source": [
    "from models import Message\n",
    "\n",
    "errors: list[str] = []\n",
    "player_messages: dict[str, list[str]] = {\n",
    "    \"AllTalker\": [],\n",
    "    \"fourminds\": [],\n",
    "    \"Human\": [],\n",
    "}\n",
    "for current_game in data:\n",
    "    messages: list[Message] = current_game.messages\n",
    "    player_mapping: dict[str, str] = {\n",
    "        current_game.bots[0].color: current_game.bots[0].name,\n",
    "        current_game.bots[1].color: current_game.bots[1].name,\n",
    "        list(current_game.player_info.keys())[0]: \"Human\",\n",
    "    }\n",
    "    for message in messages:\n",
    "        try:\n",
    "            player_name: str = player_mapping[message.color]\n",
    "        except KeyError as e:\n",
    "            errors.append(e.args[0])\n",
    "            continue\n",
    "        player_messages[player_name].append(message.message)"
   ]
  },
  {
   "cell_type": "code",
   "execution_count": 35,
   "id": "92229f5c",
   "metadata": {},
   "outputs": [
    {
     "name": "stdout",
     "output_type": "stream",
     "text": [
      "Found 156 errors.\n",
      "Collected 1109 messages from AllTalker.\n",
      "Collected 876 messages from fourminds.\n",
      "Collected 738 messages from Human.\n"
     ]
    }
   ],
   "source": [
    "print(f\"Found {len(errors)} errors.\")\n",
    "print(f\"Collected {len(player_messages['AllTalker'])} messages from AllTalker.\")\n",
    "print(f\"Collected {len(player_messages['fourminds'])} messages from fourminds.\")\n",
    "print(f\"Collected {len(player_messages['Human'])} messages from Human.\")"
   ]
  },
  {
   "cell_type": "code",
   "execution_count": 36,
   "id": "0a6a845c",
   "metadata": {},
   "outputs": [],
   "source": [
    "with open(\"player_messages.json\", \"w\", encoding=\"utf-8\") as outfile:\n",
    "    json.dump(player_messages, outfile, ensure_ascii=False, indent=2)"
   ]
  },
  {
   "cell_type": "code",
   "execution_count": null,
   "id": "2c5f73dd",
   "metadata": {},
   "outputs": [],
   "source": []
  }
 ],
 "metadata": {
  "kernelspec": {
   "display_name": "fourmind",
   "language": "python",
   "name": "python3"
  },
  "language_info": {
   "codemirror_mode": {
    "name": "ipython",
    "version": 3
   },
   "file_extension": ".py",
   "mimetype": "text/x-python",
   "name": "python",
   "nbconvert_exporter": "python",
   "pygments_lexer": "ipython3",
   "version": "3.12.9"
  }
 },
 "nbformat": 4,
 "nbformat_minor": 5
}
