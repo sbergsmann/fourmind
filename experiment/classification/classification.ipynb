{
 "cells": [
  {
   "cell_type": "code",
   "execution_count": null,
   "id": "c822878c",
   "metadata": {},
   "outputs": [],
   "source": [
    "from pathlib import Path\n",
    "\n",
    "import torch\n",
    "from sentence_transformers import SentenceTransformer\n",
    "from torch import nn\n",
    "\n",
    "\n",
    "class MessageClassifier(nn.Module):\n",
    "    def __init__(self, input_size: int, hidden_sizes: list[int], output_size: int, dropout: float = 0.75):\n",
    "        super().__init__()  # type: ignore\n",
    "        self.activation = nn.ReLU()\n",
    "        layers: list[nn.Module] = []\n",
    "        current_size = input_size\n",
    "        for hidden_size in hidden_sizes:\n",
    "            layers.append(nn.Linear(current_size, hidden_size))\n",
    "            layers.append(nn.BatchNorm1d(hidden_size))\n",
    "            layers.append(nn.ReLU())\n",
    "            layers.append(nn.Dropout(dropout))\n",
    "            current_size = hidden_size\n",
    "        layers.append(nn.Linear(current_size, output_size))\n",
    "\n",
    "        self.model: nn.Sequential = nn.Sequential(*layers)\n",
    "\n",
    "    def forward(self, x: torch.Tensor):\n",
    "        return self.model(x)\n",
    "\n",
    "\n",
    "class Classifier:\n",
    "    def __init__(\n",
    "        self, path_to_state_dict: Path, embedding_model: str = \"intfloat/multilingual-e5-large-instruct\"\n",
    "    ) -> None:\n",
    "        self.device: str = \"cuda\" if torch.cuda.is_available() else \"cpu\"\n",
    "        self.embedding_model: SentenceTransformer = SentenceTransformer(embedding_model, device=self.device)\n",
    "\n",
    "        self.classifier = MessageClassifier(1024, [48, 24], 2, dropout=0.75)\n",
    "        self.classifier.to(self.device)\n",
    "        self.classifier.load_state_dict(torch.load(path_to_state_dict, weights_only=True))\n",
    "        self.classifier.eval()\n",
    "\n",
    "    def predict(self, message: str) -> float:\n",
    "        # Classifies a message as human (negative score) or bot (positive score).\n",
    "        embedding: torch.Tensor = self.embedding_model.encode([message], convert_to_tensor=True)  # type: ignore\n",
    "        # embedding.shape = (1, 1024)\n",
    "        pred: torch.Tensor = self.classifier(embedding)\n",
    "        # pred.shape = (1, 2)\n",
    "        pred: torch.Tensor = pred.squeeze()\n",
    "        # pred.shape = (2,)\n",
    "        return torch.tanh(pred[1] - pred[0]).item()"
   ]
  },
  {
   "cell_type": "code",
   "execution_count": 22,
   "id": "e17b8f4a",
   "metadata": {},
   "outputs": [
    {
     "name": "stderr",
     "output_type": "stream",
     "text": [
      "c:\\Users\\bergsmann\\code\\turing-game\\fourmind\\.venv\\Lib\\site-packages\\huggingface_hub\\file_download.py:945: FutureWarning: `resume_download` is deprecated and will be removed in version 1.0.0. Downloads always resume when possible. If you want to force a new download, use `force_download=True`.\n",
      "  warnings.warn(\n"
     ]
    }
   ],
   "source": [
    "# message_classifier = Classifier(os.path.join(\"classifier\", \"classifier_state_dict.pth\"))\n",
    "WEIGHTS_PATH = Path(\".\").absolute() / \"classifier_state_dict.pth\"\n",
    "classifier: Classifier = Classifier(path_to_state_dict=WEIGHTS_PATH)"
   ]
  },
  {
   "cell_type": "code",
   "execution_count": 28,
   "id": "ac447bf5",
   "metadata": {},
   "outputs": [
    {
     "data": {
      "text/plain": [
       "dict_keys(['AllTalker', 'fourminds', 'Human'])"
      ]
     },
     "execution_count": 28,
     "metadata": {},
     "output_type": "execute_result"
    }
   ],
   "source": [
    "import json\n",
    "\n",
    "DATA_PATH = Path(\".\").absolute() / \"player_messages.json\"\n",
    "\n",
    "with open(DATA_PATH, \"r\", encoding=\"utf-8\") as f:\n",
    "    data: dict[str, list[str]] = json.load(f)\n",
    "data.keys()"
   ]
  },
  {
   "cell_type": "code",
   "execution_count": 30,
   "id": "52e43704",
   "metadata": {},
   "outputs": [],
   "source": [
    "player_scores: dict[str, list[float]] = data.copy()  # type: ignore\n",
    "for player_name in data.keys():\n",
    "    player_scores[player_name] = []"
   ]
  },
  {
   "cell_type": "code",
   "execution_count": null,
   "id": "f3ada02a",
   "metadata": {},
   "outputs": [
    {
     "name": "stderr",
     "output_type": "stream",
     "text": [
      "100%|██████████| 1109/1109 [03:14<00:00,  5.71it/s]\n"
     ]
    },
    {
     "name": "stdout",
     "output_type": "stream",
     "text": [
      "AllTalker: 1109 messages, avg score: 0.222\n"
     ]
    },
    {
     "name": "stderr",
     "output_type": "stream",
     "text": [
      "100%|██████████| 876/876 [03:20<00:00,  4.37it/s]\n"
     ]
    },
    {
     "name": "stdout",
     "output_type": "stream",
     "text": [
      "fourminds: 876 messages, avg score: 0.014\n"
     ]
    },
    {
     "name": "stderr",
     "output_type": "stream",
     "text": [
      "100%|██████████| 738/738 [02:37<00:00,  4.69it/s]"
     ]
    },
    {
     "name": "stdout",
     "output_type": "stream",
     "text": [
      "Human: 738 messages, avg score: -0.641\n"
     ]
    },
    {
     "name": "stderr",
     "output_type": "stream",
     "text": [
      "\n"
     ]
    }
   ],
   "source": [
    "from tqdm import tqdm\n",
    "\n",
    "for player_name, messages in data.items():\n",
    "    for message in tqdm(messages):\n",
    "        score = classifier.predict(message)\n",
    "        player_scores[player_name].append(score)\n",
    "    print(\n",
    "        f\"{player_name}: {len(messages)} messages, avg score: {sum(player_scores[player_name]) / len(messages):.3f}\"  # noqa: E501\n",
    "    )  # noqa: E501"
   ]
  },
  {
   "cell_type": "code",
   "execution_count": 33,
   "id": "4adb3d3a",
   "metadata": {},
   "outputs": [],
   "source": [
    "with open(\"player_message_scores.json\", \"w\", encoding=\"utf-8\") as f:\n",
    "    json.dump(player_scores, f, ensure_ascii=False, indent=2)"
   ]
  },
  {
   "cell_type": "code",
   "execution_count": null,
   "id": "629b7fde",
   "metadata": {},
   "outputs": [],
   "source": []
  }
 ],
 "metadata": {
  "kernelspec": {
   "display_name": "fourmind",
   "language": "python",
   "name": "python3"
  },
  "language_info": {
   "codemirror_mode": {
    "name": "ipython",
    "version": 3
   },
   "file_extension": ".py",
   "mimetype": "text/x-python",
   "name": "python",
   "nbconvert_exporter": "python",
   "pygments_lexer": "ipython3",
   "version": "3.12.9"
  }
 },
 "nbformat": 4,
 "nbformat_minor": 5
}
