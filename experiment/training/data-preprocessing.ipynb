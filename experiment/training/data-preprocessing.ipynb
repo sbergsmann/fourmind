{
 "cells": [
  {
   "cell_type": "code",
   "execution_count": 1,
   "id": "97bf7b02",
   "metadata": {},
   "outputs": [
    {
     "name": "stdout",
     "output_type": "stream",
     "text": [
      "Adding c:\\Users\\bergsmann\\code\\turing-game\\fourmind\\experiment to sys.path\n"
     ]
    }
   ],
   "source": [
    "import sys\n",
    "from pathlib import Path\n",
    "\n",
    "parent_folder = str(Path.cwd().parent)\n",
    "print(f\"Adding {parent_folder} to sys.path\")\n",
    "if parent_folder not in sys.path:\n",
    "    sys.path.insert(0, parent_folder)"
   ]
  },
  {
   "cell_type": "code",
   "execution_count": 2,
   "id": "00f460a0",
   "metadata": {},
   "outputs": [
    {
     "data": {
      "text/plain": [
       "WindowsPath('c:/Users/bergsmann/code/turing-game/fourmind/experiment/daten_severin_20250901.json')"
      ]
     },
     "execution_count": 2,
     "metadata": {},
     "output_type": "execute_result"
    }
   ],
   "source": [
    "RAW_DATA_FILE_PATH = Path(\".\").absolute().parent / \"daten_severin_20250901.json\"\n",
    "RAW_DATA_FILE_PATH"
   ]
  },
  {
   "cell_type": "code",
   "execution_count": 3,
   "id": "68198407",
   "metadata": {},
   "outputs": [],
   "source": [
    "import json\n",
    "from typing import Any\n",
    "\n",
    "from models import GameData\n",
    "\n",
    "with open(RAW_DATA_FILE_PATH, \"r\") as f:\n",
    "    raw_data: dict[str, Any] = json.load(f)\n",
    "\n",
    "data = [GameData(**item) for item in raw_data]  # type: ignore"
   ]
  },
  {
   "cell_type": "markdown",
   "id": "9a733330",
   "metadata": {},
   "source": [
    "lets make one dataset with Message_ID, Message, Message_Embedding, Label [one-hot]"
   ]
  },
  {
   "cell_type": "code",
   "execution_count": 14,
   "id": "16d8d9bd",
   "metadata": {},
   "outputs": [
    {
     "data": {
      "text/plain": [
       "Message(gameID=5117, oldidx=None, color='GameMaster', userID='GameMaster', botID=0, message='LANGUAGE en', create_time='2025-09-16T10:20:30', colorID='gray400', messageidx=39778)"
      ]
     },
     "execution_count": 14,
     "metadata": {},
     "output_type": "execute_result"
    }
   ],
   "source": [
    "data[0].messages[0]"
   ]
  },
  {
   "cell_type": "code",
   "execution_count": 15,
   "id": "2c1c3a95",
   "metadata": {},
   "outputs": [
    {
     "name": "stderr",
     "output_type": "stream",
     "text": [
      "100%|██████████| 78/78 [00:00<00:00, 38799.30it/s]\n"
     ]
    }
   ],
   "source": [
    "from tqdm import tqdm\n",
    "\n",
    "\n",
    "all_messages = []\n",
    "for game in tqdm(data):\n",
    "    messages = game.messages\n",
    "    color_player_mapping = {bot.color: bot.name for bot in game.bots}\n",
    "    color_player_mapping[list(game.player_info.keys())[0]] = \"Human\"\n",
    "    for msg in messages:\n",
    "        player_name = color_player_mapping.get(msg.color)\n",
    "        if player_name is not None:\n",
    "            msg.color = player_name\n",
    "            all_messages.append(msg)"
   ]
  },
  {
   "cell_type": "code",
   "execution_count": null,
   "id": "09594c8d",
   "metadata": {},
   "outputs": [],
   "source": []
  },
  {
   "cell_type": "code",
   "execution_count": 16,
   "id": "28b33f76",
   "metadata": {},
   "outputs": [
    {
     "data": {
      "text/plain": [
       "2723"
      ]
     },
     "execution_count": 16,
     "metadata": {},
     "output_type": "execute_result"
    }
   ],
   "source": [
    "len(all_messages)"
   ]
  },
  {
   "cell_type": "code",
   "execution_count": 17,
   "id": "3d0ee4a5",
   "metadata": {},
   "outputs": [
    {
     "name": "stdout",
     "output_type": "stream",
     "text": [
      "Counter({'AllTalker': 1109, 'fourminds': 876, 'Human': 738})\n"
     ]
    }
   ],
   "source": [
    "from collections import Counter\n",
    "\n",
    "color_counts = Counter(msg.color for msg in all_messages)\n",
    "print(color_counts)"
   ]
  },
  {
   "cell_type": "code",
   "execution_count": 18,
   "id": "21ec028d",
   "metadata": {},
   "outputs": [
    {
     "data": {
      "text/plain": [
       "dict_keys(['gameID', 'oldidx', 'color', 'userID', 'botID', 'message', 'create_time', 'colorID', 'messageidx'])"
      ]
     },
     "execution_count": 18,
     "metadata": {},
     "output_type": "execute_result"
    }
   ],
   "source": [
    "all_messages[0].model_dump().keys()"
   ]
  },
  {
   "cell_type": "code",
   "execution_count": 19,
   "id": "5cf8b875",
   "metadata": {},
   "outputs": [
    {
     "name": "stderr",
     "output_type": "stream",
     "text": [
      "c:\\Users\\bergsmann\\code\\turing-game\\fourmind\\.venv\\Lib\\site-packages\\sentence_transformers\\cross_encoder\\CrossEncoder.py:11: TqdmExperimentalWarning: Using `tqdm.autonotebook.tqdm` in notebook mode. Use `tqdm.tqdm` instead to force console mode (e.g. in jupyter console)\n",
      "  from tqdm.autonotebook import tqdm, trange\n",
      "c:\\Users\\bergsmann\\code\\turing-game\\fourmind\\.venv\\Lib\\site-packages\\transformers\\utils\\generic.py:441: FutureWarning: `torch.utils._pytree._register_pytree_node` is deprecated. Please use `torch.utils._pytree.register_pytree_node` instead.\n",
      "  _torch_pytree._register_pytree_node(\n",
      "c:\\Users\\bergsmann\\code\\turing-game\\fourmind\\.venv\\Lib\\site-packages\\transformers\\utils\\generic.py:309: FutureWarning: `torch.utils._pytree._register_pytree_node` is deprecated. Please use `torch.utils._pytree.register_pytree_node` instead.\n",
      "  _torch_pytree._register_pytree_node(\n",
      "c:\\Users\\bergsmann\\code\\turing-game\\fourmind\\.venv\\Lib\\site-packages\\huggingface_hub\\file_download.py:945: FutureWarning: `resume_download` is deprecated and will be removed in version 1.0.0. Downloads always resume when possible. If you want to force a new download, use `force_download=True`.\n",
      "  warnings.warn(\n"
     ]
    }
   ],
   "source": [
    "embedding_model_name = \"intfloat/multilingual-e5-large-instruct\"\n",
    "\n",
    "from sentence_transformers import SentenceTransformer\n",
    "\n",
    "embedding_model = SentenceTransformer(embedding_model_name, device=\"cpu\")"
   ]
  },
  {
   "cell_type": "code",
   "execution_count": null,
   "id": "7532f658",
   "metadata": {},
   "outputs": [],
   "source": [
    "from pydantic import BaseModel\n",
    "from numpy.typing import NDArray\n",
    "from torch import Tensor"
   ]
  },
  {
   "cell_type": "code",
   "execution_count": 40,
   "id": "623237d8",
   "metadata": {},
   "outputs": [],
   "source": [
    "class EmbeddedMessage(BaseModel):\n",
    "    # metadata\n",
    "    game_id: int\n",
    "    message_idx: int\n",
    "    message: str\n",
    "    label: str\n",
    "\n",
    "    # training data\n",
    "    onehot_label: Tensor | NDArray[Any]\n",
    "    embedding:Tensor | NDArray[Any]\n",
    "\n",
    "    class Config:\n",
    "        arbitrary_types_allowed = True"
   ]
  },
  {
   "cell_type": "code",
   "execution_count": 41,
   "id": "9b4e9584",
   "metadata": {},
   "outputs": [],
   "source": [
    "message_embeddings = []"
   ]
  },
  {
   "cell_type": "code",
   "execution_count": 42,
   "id": "44715816",
   "metadata": {},
   "outputs": [],
   "source": [
    "onehot_label_mapping = {\n",
    "    \"Human\": Tensor([1, 0, 0]),\n",
    "    \"fourminds\": Tensor([0, 1, 0]),\n",
    "    \"AllTalker\": Tensor([0, 0, 1]),\n",
    "}"
   ]
  },
  {
   "cell_type": "code",
   "execution_count": 43,
   "id": "44c9a4f6",
   "metadata": {},
   "outputs": [
    {
     "name": "stderr",
     "output_type": "stream",
     "text": [
      "100%|██████████| 2723/2723 [05:23<00:00,  8.43it/s]\n"
     ]
    }
   ],
   "source": [
    "for message in tqdm(all_messages):\n",
    "    embedding: Tensor = embedding_model.encode(message.message, normalize_embeddings=True)\n",
    "    message_embeddings.append(\n",
    "        EmbeddedMessage(\n",
    "            game_id=message.gameID,\n",
    "            message_idx=message.messageidx,\n",
    "            message=message.message,\n",
    "            label=message.color,\n",
    "            onehot_label=onehot_label_mapping[message.color],\n",
    "            embedding=embedding,\n",
    "        )\n",
    "    )\n",
    "    "
   ]
  },
  {
   "cell_type": "code",
   "execution_count": 46,
   "id": "9ccac914",
   "metadata": {},
   "outputs": [
    {
     "name": "stdout",
     "output_type": "stream",
     "text": [
      "message_embeddings size: 10.980293273925781 bytes\n"
     ]
    }
   ],
   "source": [
    "import pickle\n",
    "\n",
    "dataset_size_bytes = len(pickle.dumps(message_embeddings))\n",
    "print(f\"message_embeddings size: {dataset_size_bytes/1024/1024} bytes\")"
   ]
  },
  {
   "cell_type": "code",
   "execution_count": 47,
   "id": "94f45eb9",
   "metadata": {},
   "outputs": [],
   "source": [
    "import json\n",
    "\n",
    "def tensor_to_list(tensor):\n",
    "    # Handles both torch.Tensor and numpy.ndarray\n",
    "    if hasattr(tensor, \"tolist\"):\n",
    "        return tensor.tolist()\n",
    "    return list(tensor)\n",
    "\n",
    "def embedded_message_to_dict(embedded_msg):\n",
    "    d = embedded_msg.model_dump()\n",
    "    d[\"onehot_label\"] = tensor_to_list(d[\"onehot_label\"])\n",
    "    d[\"embedding\"] = tensor_to_list(d[\"embedding\"])\n",
    "    return d\n",
    "\n",
    "with open(\"message_embeddings.json\", \"w\", encoding=\"utf-8\") as f:\n",
    "    json.dump([embedded_message_to_dict(em) for em in message_embeddings], f, ensure_ascii=False, indent=2)"
   ]
  },
  {
   "cell_type": "code",
   "execution_count": null,
   "id": "9b864653",
   "metadata": {},
   "outputs": [],
   "source": []
  }
 ],
 "metadata": {
  "kernelspec": {
   "display_name": "fourmind",
   "language": "python",
   "name": "python3"
  },
  "language_info": {
   "codemirror_mode": {
    "name": "ipython",
    "version": 3
   },
   "file_extension": ".py",
   "mimetype": "text/x-python",
   "name": "python",
   "nbconvert_exporter": "python",
   "pygments_lexer": "ipython3",
   "version": "3.12.9"
  }
 },
 "nbformat": 4,
 "nbformat_minor": 5
}
