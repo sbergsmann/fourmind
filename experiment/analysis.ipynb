{
 "cells": [
  {
   "cell_type": "code",
   "execution_count": null,
   "id": "6934e473",
   "metadata": {},
   "outputs": [],
   "source": []
  },
  {
   "cell_type": "code",
   "execution_count": 2,
   "id": "01257b6c",
   "metadata": {},
   "outputs": [],
   "source": [
    "import json\n",
    "from typing import Any\n",
    "\n",
    "from models import GameData\n",
    "\n",
    "with open(\"./daten_severin_20250901.json\", \"r\") as f:\n",
    "    raw_data: dict[str, Any] = json.load(f)\n",
    "\n",
    "data = [GameData(**item) for item in raw_data]  # type: ignore"
   ]
  },
  {
   "cell_type": "code",
   "execution_count": 3,
   "id": "7ca66329",
   "metadata": {},
   "outputs": [],
   "source": [
    "import re\n",
    "\n",
    "from models import Bot\n",
    "\n",
    "\n",
    "def get_human_vote(message: str, bots: list[Bot]) -> str | None:\n",
    "    bot_colors = {bot.color for bot in bots}\n",
    "    # Find all colors mentioned in the message\n",
    "    mentioned_colors = set(re.findall(r\"Player (\\w+)\", message))\n",
    "    # Human color is the one not in bot_colors\n",
    "    human_colors = mentioned_colors - bot_colors\n",
    "    if not human_colors:\n",
    "        return None\n",
    "    human_color = human_colors.pop()\n",
    "    # Find which bot the human accused\n",
    "    match = re.search(rf\"Player {human_color} accused (\\w+)\", message)\n",
    "    if match:\n",
    "        voted_color = match.group(1)\n",
    "        # Find bot name by color\n",
    "        for bot in bots:\n",
    "            if bot.color == voted_color:\n",
    "                return bot.name\n",
    "    return None"
   ]
  },
  {
   "cell_type": "code",
   "execution_count": 4,
   "id": "6af8c79d",
   "metadata": {},
   "outputs": [
    {
     "name": "stdout",
     "output_type": "stream",
     "text": [
      "Counter({'AllTalker': 38, 'fourminds': 29, None: 11})\n"
     ]
    }
   ],
   "source": [
    "from collections import Counter\n",
    "\n",
    "votes: list[str | None] = []\n",
    "for d in data:\n",
    "    vote = get_human_vote(d.messages[-1].message, d.bots)\n",
    "    if vote is None:\n",
    "        pass\n",
    "        # print(d.messages[-1].message)\n",
    "    votes.append(vote)\n",
    "\n",
    "vote_counts = Counter(votes)\n",
    "print(vote_counts)"
   ]
  },
  {
   "cell_type": "code",
   "execution_count": 5,
   "id": "e5dc53c1",
   "metadata": {},
   "outputs": [
    {
     "name": "stdout",
     "output_type": "stream",
     "text": [
      "fourminds: 29 games, average messages: 35.66\n",
      "AllTalker: 38 games, average messages: 40.18\n"
     ]
    }
   ],
   "source": [
    "from statistics import mean\n",
    "\n",
    "# Collect message counts per game\n",
    "message_counts = [len(d.messages) for d in data]\n",
    "\n",
    "# Group message counts by vote\n",
    "vote_to_msg_counts: dict[str, list[int]] = {}\n",
    "for v, msg_count in zip(votes, message_counts):\n",
    "    if v is not None:\n",
    "        vote_to_msg_counts.setdefault(v, []).append(msg_count)\n",
    "\n",
    "# Calculate averages\n",
    "for vote_name, counts in vote_to_msg_counts.items():\n",
    "    avg = mean(counts)\n",
    "    print(f\"{vote_name}: {len(counts)} games, average messages: {avg:.2f}\")"
   ]
  },
  {
   "cell_type": "code",
   "execution_count": 6,
   "id": "375359fe",
   "metadata": {},
   "outputs": [
    {
     "name": "stdout",
     "output_type": "stream",
     "text": [
      "fourminds: 29 games, average duration: 5.21 minutes\n",
      "AllTalker: 38 games, average duration: 4.82 minutes\n"
     ]
    }
   ],
   "source": [
    "from datetime import datetime\n",
    "\n",
    "# Calculate time deltas (in seconds) for each game\n",
    "time_deltas: list[float] = []\n",
    "for d in data:\n",
    "    start = datetime.fromisoformat(d.starttime)\n",
    "    end = datetime.fromisoformat(d.updateTS)\n",
    "    delta = (end - start).total_seconds()\n",
    "    time_deltas.append(delta)\n",
    "\n",
    "# Group time deltas by vote\n",
    "vote_to_time_deltas: dict[str, list[float]] = {}\n",
    "for v, delta in zip(votes, time_deltas):\n",
    "    if v is not None:\n",
    "        vote_to_time_deltas.setdefault(v, []).append(delta)\n",
    "\n",
    "# Calculate averages\n",
    "for vote_name, deltas in vote_to_time_deltas.items():\n",
    "    avg_time = mean(deltas)\n",
    "    print(f\"{vote_name}: {len(deltas)} games, average duration: {avg_time / 60:.2f} minutes\")"
   ]
  },
  {
   "cell_type": "code",
   "execution_count": null,
   "id": "2c128904",
   "metadata": {},
   "outputs": [],
   "source": []
  }
 ],
 "metadata": {
  "kernelspec": {
   "display_name": "fourmind",
   "language": "python",
   "name": "python3"
  },
  "language_info": {
   "codemirror_mode": {
    "name": "ipython",
    "version": 3
   },
   "file_extension": ".py",
   "mimetype": "text/x-python",
   "name": "python",
   "nbconvert_exporter": "python",
   "pygments_lexer": "ipython3",
   "version": "3.12.9"
  }
 },
 "nbformat": 4,
 "nbformat_minor": 5
}
