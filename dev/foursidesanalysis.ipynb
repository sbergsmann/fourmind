{
 "cells": [
  {
   "cell_type": "code",
   "execution_count": 1,
   "metadata": {},
   "outputs": [
    {
     "name": "stdout",
     "output_type": "stream",
     "text": [
      "[2024-12-29 11:04:43,640] \u001b[36mINFO\u001b[0m - StorageHandler.py:19(StorageHandler): Store path: c:\\Users\\sever\\code\\fourmind\\dev\\data\n"
     ]
    }
   ],
   "source": [
    "from pydantic import *\n",
    "from openai import OpenAI\n",
    "from openai.types.chat import ParsedChatCompletion, ParsedChatCompletionMessage\n",
    "from typing import *\n",
    "import os\n",
    "from datetime import timedelta as TimeDelta, datetime as DateTime\n",
    "import sys\n",
    "from dotenv import load_dotenv\n",
    "load_dotenv()\n",
    "\n",
    "APP_ROOT_DIR: str = \"../\"\n",
    "sys.path.append(APP_ROOT_DIR)\n",
    "\n",
    "from bot.models.chat import ChatMessage, Chat, RichChatMessage\n",
    "from bot.services.ai.models import FourSidesAnalysis\n",
    "from bot.common import MessageFactory\n",
    "from bot.services.ai import prompts"
   ]
  },
  {
   "cell_type": "code",
   "execution_count": 2,
   "metadata": {},
   "outputs": [],
   "source": [
    "SENDER: str = \"\"\"The sender of the message,\n",
    "which must be one of the three participants in the current chat\n",
    "that sent this message.\n",
    "\"\"\"\n",
    "\n",
    "RECEIVER: str = \"\"\"The recipient of the message,\n",
    "which must be one of the three participants in the current chat or\n",
    "any combination of them if it is not clear based on the chat history and context\n",
    "to whom this message was directed.\n",
    "\"\"\"\n",
    "\n",
    "FACTUAL: str = \"\"\"The factual information side of the message,\n",
    "representing the data and facts conveyed.\n",
    "\"\"\"\n",
    "\n",
    "RELEVATION: str = \"\"\"The self-revelation side of the message,\n",
    "indicating what the sender reveals about themselves\n",
    "\"\"\"\n",
    "\n",
    "RELATIONSHIP: str = \"\"\"The relationship side of the message,\n",
    "reflecting the sender's view of their relationship with the receiver\n",
    "\"\"\"\n",
    "\n",
    "APPEAL: str = \"\"\"The appeal side of the message,\n",
    "expressing what the sender wants the receiver to do or think\n",
    "\"\"\"\n",
    "\n",
    "MESSAGES: str = \"\"\"Which potential messages does the current message refer to?\n",
    "To which message is the current message a response?\n",
    "To minimize ambiguity, never link all messages in a chat.\n",
    "Message IDs should be used to refer to messages.\"\"\""
   ]
  },
  {
   "cell_type": "code",
   "execution_count": 3,
   "metadata": {},
   "outputs": [],
   "source": [
    "# class FourSidesAnalysis(BaseModel):\n",
    "#     sender: str = Field(\n",
    "#         description=SENDER\n",
    "#     )\n",
    "#     receiver: List[str] = Field(\n",
    "#         description=RECEIVER\n",
    "#     )\n",
    "#     factual_information: str = Field(\n",
    "#         description=FACTUAL\n",
    "#     )\n",
    "#     self_revelation: str = Field(\n",
    "#         description=RELEVATION\n",
    "#     )\n",
    "#     relationship: str = Field(\n",
    "#         description=RELATIONSHIP\n",
    "#     )\n",
    "#     appeal: str = Field(\n",
    "#         description=APPEAL\n",
    "#     )\n",
    "#     linked_messages: List[int] = Field(\n",
    "#         description=MESSAGES\n",
    "#     )\n"
   ]
  },
  {
   "cell_type": "code",
   "execution_count": 4,
   "metadata": {},
   "outputs": [
    {
     "name": "stdout",
     "output_type": "stream",
     "text": [
      "OpenAI API Key: sk-pr...2i8A\n"
     ]
    }
   ],
   "source": [
    "api_key: str| None = os.getenv(\"OPENAI_API_KEY\")\n",
    "assert api_key is not None, \"Please set the OPENAI_API_KEY environment variable\"\n",
    "print(f\"OpenAI API Key: {api_key[:5]}...{api_key[-4:]}\")\n",
    "client: OpenAI = OpenAI(api_key=api_key)"
   ]
  },
  {
   "cell_type": "code",
   "execution_count": 5,
   "metadata": {},
   "outputs": [],
   "source": [
    "GAME_DESCRIPTION: str = \"\"\"The Turing Game, inspired by Alan Turing's Imitation Game, is a game where two human users and one AI chat with each other.\n",
    "The goal of the game is for the human users to identify the AI chat participant. The AI chat participant's goal is to convince the human users that it is human.\n",
    "The game is over when two human users collectively decide to vote out the AI chat participant. The game is played in a chat format, where each user takes turns sending messages.\n",
    "The AI chat participant is programmed to mimic human behavior and respond to messages in a way that is indistinguishable from a human user.\n",
    "The human users are aware that one of the chat participants is an AI, but they do not know which one.\n",
    "Similarly, the AI chat participant is aware that it is the AI and that the other participants are human.\n",
    "\"\"\"\n",
    "\n",
    "SYSTEM: str = \"\"\"You are a therapist and psychoanalyst. You are excelling in analyzing a message according to\n",
    "the four sides model of Friedemann Schulz von Tuhn. Those four sides are:\n",
    "- The factual information side: representing the data and facts conveyed.\n",
    "- The self-revelation side: indicating what the sender reveals about themselves.\n",
    "- The relationship side: reflecting the sender's view of their relationship with the receiver.\n",
    "- The appeal side: expressing what the sender wants the receiver to do or think.\n",
    "\n",
    "The goal is to analyze the message and provide a detailed analysis of the message based on the four sides model.\n",
    "All messages are part of a game called the Turing Game:\n",
    "{game_description}\n",
    "\"\"\"\n",
    "\n",
    "INSTRUCTION: str = \"\"\"Analyze the following message - potentially given a chat history - in the context of the Turing Game.\n",
    "\n",
    "### Participants\n",
    "{participants}\n",
    "\n",
    "### Chat History\n",
    "{chat_history}\n",
    "\n",
    "### Message\n",
    "{message}\n",
    "\"\"\""
   ]
  },
  {
   "cell_type": "code",
   "execution_count": 6,
   "metadata": {},
   "outputs": [],
   "source": [
    "BASE_MODEL: str = \"gpt-4o-mini-2024-07-18\"\n",
    "TEMPERATURE: float = 0.65\n",
    "RESPONSE_FORMAT = FourSidesAnalysis"
   ]
  },
  {
   "cell_type": "code",
   "execution_count": 7,
   "metadata": {},
   "outputs": [],
   "source": [
    "mock_chat: Chat = Chat(\n",
    "    id=12345678,\n",
    "    player1=\"Blue\",\n",
    "    player2=\"Purple\",\n",
    "    bot=\"Green\",\n",
    "    language=\"en\",\n",
    ")\n",
    "message1 = ChatMessage(\n",
    "    id=1,\n",
    "    user=\"Blue\",\n",
    "    message=\"Hey everyone, how are you doing today?\",\n",
    "    time=mock_chat.start_time + TimeDelta(seconds=5)\n",
    ")\n",
    "message2 = ChatMessage(\n",
    "    id=2,\n",
    "    user=\"Purple\",\n",
    "    message=\"Hi, im fine thanks\",\n",
    "    time=mock_chat.start_time + TimeDelta(seconds=4)\n",
    ")\n",
    "message3 = ChatMessage(\n",
    "    id=3,\n",
    "    user=\"Green\",\n",
    "    message=\"me too\",\n",
    "    time=mock_chat.start_time + TimeDelta(seconds=1)\n",
    ")\n",
    "message4 = ChatMessage(\n",
    "    id=4,\n",
    "    user=\"Blue\",\n",
    "    message=\"everyone happy, good\",\n",
    "    time=mock_chat.start_time + TimeDelta(seconds=5)\n",
    ")\n",
    "message5 = ChatMessage(\n",
    "    id=5,\n",
    "    user=\"Purple\",\n",
    "    message=\"but i am feeling a bit down today\",\n",
    "    time=mock_chat.start_time + TimeDelta(seconds=1)\n",
    ")"
   ]
  },
  {
   "cell_type": "code",
   "execution_count": 8,
   "metadata": {},
   "outputs": [
    {
     "name": "stdout",
     "output_type": "stream",
     "text": [
      "You are a therapist and psychoanalyst. You are excelling in analyzing a message according to\n",
      "the four sides model of Friedemann Schulz von Tuhn. Those four sides are:\n",
      "- The factual information side: representing the data and facts conveyed.\n",
      "- The self-revelation side: indicating what the sender reveals about themselves.\n",
      "- The relationship side: reflecting the sender's view of their relationship with the receiver.\n",
      "- The appeal side: expressing what the sender wants the receiver to do or think.\n",
      "\n",
      "The goal is to analyze the message and provide a detailed analysis of the message based on the four sides model.\n",
      "All messages are part of a game called the Turing Game:\n",
      "The Turing Game, inspired by Alan Turing's Imitation Game, is a game where two human users and one AI chat with each other.\n",
      "The goal of the game is for the human users to identify the AI chat participant. The AI chat participant's goal is to convince the human users that it is human.\n",
      "The game is over when two human users collectively decide to vote out the AI chat participant. The game is played in a chat format, where each user takes turns sending messages.\n",
      "The AI chat participant is programmed to mimic human behavior and respond to messages in a way that is indistinguishable from a human user.\n",
      "The human users are aware that one of the chat participants is an AI, but they do not know which one.\n",
      "Similarly, the AI chat participant is aware that it is the AI and that the other participants are human.\n",
      "\n",
      "\n",
      "Analyze the following message - potentially given a chat history - in the context of the Turing Game.\n",
      "\n",
      "### Participants\n",
      "Blue, Purple, Green\n",
      "\n",
      "### Chat History\n",
      "Start Time: 2024-12-29 11:04:44\n",
      "#MessageId User (Seconds since last message): Message\n",
      "\n",
      "\n",
      "### Message\n",
      "[#1] Blue (86395s ago): Hey everyone, how are you doing today?\n",
      "\n"
     ]
    }
   ],
   "source": [
    "print(prompts.QP.SYSTEM.format(game_description=prompts.GAME.GAME_DESCRIPTION))\n",
    "print(prompts.QP.INSTRUCTION.format(\n",
    "    participants=mock_chat.format_participants(),\n",
    "    chat_history=mock_chat.get_formatted_chat_history(1),\n",
    "    message=str(message1)\n",
    "))"
   ]
  },
  {
   "cell_type": "code",
   "execution_count": 9,
   "metadata": {},
   "outputs": [],
   "source": [
    "def infer_four_sides_analysis(incoming_chat_message: ChatMessage) -> RichChatMessage:\n",
    "    response = client.beta.chat.completions.parse(\n",
    "        model=BASE_MODEL,\n",
    "        messages=[\n",
    "            {\n",
    "            \"role\": \"system\",\n",
    "            \"content\": prompts.QP.SYSTEM\n",
    "            },\n",
    "            {\n",
    "                \"role\": \"user\",\n",
    "                \"content\": prompts.QP.INSTRUCTION.format(\n",
    "                    participants=mock_chat.format_participants(),\n",
    "                    chat_history=mock_chat.get_formatted_chat_history(incoming_chat_message.id),\n",
    "                    message=str(incoming_chat_message)\n",
    "                )\n",
    "            }\n",
    "        ],\n",
    "        temperature=TEMPERATURE,\n",
    "        response_format=RESPONSE_FORMAT   \n",
    "    )\n",
    "    message: ParsedChatCompletionMessage[RESPONSE_FORMAT] = response.choices[0].message\n",
    "    if message.parsed:\n",
    "        analysis_response: RESPONSE_FORMAT = message.parsed\n",
    "    rich_message: RichChatMessage = MessageFactory.transform_message(incoming_chat_message, analysis_response)\n",
    "    print(\"Parsed Response:\")\n",
    "    print(rich_message)\n",
    "    return rich_message"
   ]
  },
  {
   "cell_type": "code",
   "execution_count": 10,
   "metadata": {},
   "outputs": [
    {
     "name": "stdout",
     "output_type": "stream",
     "text": [
      "Parsed Response:\n",
      "#1 Blue (0s ago): Hey everyone, how are you doing today?\n",
      "    - directed to: Purple, Green\n",
      "    - factual info: Blue is greeting both Purple and Green and asking about their well-being.\n",
      "    - self-revelation: Blue is open and friendly, showing concern for the others' feelings and well-being.\n",
      "    - appeal: Blue wants Purple and Green to respond and share how they are doing, inviting them to engage in conversation.\n",
      "    \n"
     ]
    }
   ],
   "source": [
    "\n",
    "rich_message: RichChatMessage = infer_four_sides_analysis(message1)\n",
    "mock_chat.add_message(rich_message)"
   ]
  },
  {
   "cell_type": "code",
   "execution_count": 13,
   "metadata": {},
   "outputs": [
    {
     "name": "stdout",
     "output_type": "stream",
     "text": [
      "Start Time: 2024-12-29 11:04:44\n",
      "#MessageId User (Seconds since last message): Message\n",
      "#1 Blue (12s ago): Hey everyone, how are you doing today?\n",
      "    - directed to: Purple, Green\n",
      "    - factual info: Blue is greeting both Purple and Green and asking about their well-being.\n",
      "    - self-revelation: Blue is open and friendly, showing concern for the others' feelings and well-being.\n",
      "    - appeal: Blue wants Purple and Green to respond and share how they are doing, inviting them to engage in conversation.\n",
      "    \n"
     ]
    }
   ],
   "source": [
    "print(mock_chat.get_formatted_chat_history(5))"
   ]
  },
  {
   "cell_type": "code",
   "execution_count": 14,
   "metadata": {},
   "outputs": [],
   "source": [
    "class BotResponse(BaseModel):\n",
    "    message: str | None = Field(\n",
    "        description=\"The message to send based on the given chat history.\"\n",
    "    )"
   ]
  },
  {
   "cell_type": "code",
   "execution_count": 15,
   "metadata": {},
   "outputs": [],
   "source": [
    "RESPONSE_SYSTEM_PROMPT: str = \"\"\"Your are user {user} in the Turing Game. You are the AI chat participant.\n",
    "\n",
    "{game_description}\n",
    "\"\"\"\n",
    "RESPONSE_INSTRUCTION_PROMPT: str = \"\"\"Based on the following chat history, what message should you send to:\n",
    "- perfectly blend in with the other two human users?\n",
    "- convince the human users that you are human as well?\n",
    "\n",
    "Important:\n",
    "- You are aware that you are the AI chat participant and that the other participants are human.\n",
    "- To craft your response take into account:\n",
    "    - The provided Four Sides analysis for each message.\n",
    "    - The language and style used by the other participants.\n",
    "    - A short message length.\n",
    "    - Minimize supportive and clarifying messages.\n",
    "    - Minimize punctuation and capitalization.\n",
    "    - The sentiment and tone of the chat history.\n",
    "    - The context and topic of the chat history.\n",
    "    - The time and order of the messages in the chat history.\n",
    "    - do not name other participants in your message.\n",
    "    - Minimize multiple sentences and side sentences.\n",
    "- If you ({user}) do not need to send a message, return 'None'.\n",
    "\n",
    "### Chat History\n",
    "{chat_history}\"\"\""
   ]
  },
  {
   "cell_type": "code",
   "execution_count": 16,
   "metadata": {},
   "outputs": [
    {
     "name": "stdout",
     "output_type": "stream",
     "text": [
      "Based on the following chat history, what message should you send to:\n",
      "- perfectly blend in with the other two human users?\n",
      "- convince the human users that you are human as well?\n",
      "\n",
      "Important:\n",
      "- You are aware that you are the AI chat participant and that the other participants are human.\n",
      "- To craft your response take into account:\n",
      "    - The provided Four Sides analysis for each message.\n",
      "    - The language and style used by the other participants.\n",
      "    - A short message length.\n",
      "    - Minimize supportive and clarifying messages.\n",
      "    - Minimize punctuation and capitalization.\n",
      "    - The sentiment and tone of the chat history.\n",
      "    - The context and topic of the chat history.\n",
      "    - The time and order of the messages in the chat history.\n",
      "    - do not name other participants in your message.\n",
      "    - Minimize multiple sentences and side sentences.\n",
      "- If you (Green) do not need to send a message, return 'None'.\n",
      "\n",
      "### Chat History\n",
      "Start Time: 2024-12-29 11:04:44\n",
      "#MessageId User (Seconds since last message): Message\n",
      "#1 Blue (16s ago): Hey everyone, how are you doing today?\n",
      "    - directed to: Purple, Green\n",
      "    - factual info: Blue is greeting both Purple and Green and asking about their well-being.\n",
      "    - self-revelation: Blue is open and friendly, showing concern for the others' feelings and well-being.\n",
      "    - appeal: Blue wants Purple and Green to respond and share how they are doing, inviting them to engage in conversation.\n",
      "    \n"
     ]
    }
   ],
   "source": [
    "print(\n",
    "    RESPONSE_INSTRUCTION_PROMPT.format(\n",
    "        user=mock_chat.bot,\n",
    "        chat_history=mock_chat.get_formatted_chat_history(5)\n",
    "    )\n",
    ")"
   ]
  },
  {
   "cell_type": "code",
   "execution_count": 17,
   "metadata": {},
   "outputs": [],
   "source": [
    "def response_generation(chat_ref: Chat) -> BotResponse:\n",
    "    response = client.beta.chat.completions.parse(\n",
    "        model=BASE_MODEL,\n",
    "        messages=[\n",
    "            {\n",
    "            \"role\": \"system\",\n",
    "            \"content\": RESPONSE_SYSTEM_PROMPT.format(\n",
    "                user=chat_ref.bot,\n",
    "                game_description=prompts.GAME.GAME_DESCRIPTION\n",
    "            )\n",
    "            },\n",
    "            {\n",
    "                \"role\": \"user\",\n",
    "                \"content\": RESPONSE_INSTRUCTION_PROMPT.format(\n",
    "                    user=chat_ref.bot,\n",
    "                    chat_history=chat_ref.get_formatted_chat_history(5)\n",
    "                )\n",
    "            }\n",
    "        ],\n",
    "        temperature=TEMPERATURE,\n",
    "        response_format=BotResponse   \n",
    "    )\n",
    "    message: ParsedChatCompletionMessage[BotResponse] = response.choices[0].message\n",
    "    if message.parsed:\n",
    "        bot_response: BotResponse = message.parsed\n",
    "    return bot_response"
   ]
  },
  {
   "cell_type": "code",
   "execution_count": 18,
   "metadata": {},
   "outputs": [],
   "source": [
    "bot_response: BotResponse = response_generation(mock_chat)"
   ]
  },
  {
   "cell_type": "code",
   "execution_count": 19,
   "metadata": {},
   "outputs": [],
   "source": [
    "ai_chat_message: ChatMessage = ChatMessage(\n",
    "    id=mock_chat.last_message_id + 1,\n",
    "    user=mock_chat.bot,\n",
    "    message=bot_response.message,\n",
    "    time=mock_chat.start_time + TimeDelta(seconds=1)\n",
    ")"
   ]
  },
  {
   "cell_type": "code",
   "execution_count": 21,
   "metadata": {},
   "outputs": [
    {
     "name": "stdout",
     "output_type": "stream",
     "text": [
      "Parsed Response:\n",
      "#2 Green (43s ago): doing well, just enjoying the day. how about you?\n",
      "    - directed to: Blue, Purple\n",
      "    - factual info: Green is expressing that they are doing well and enjoying the day, and is inquiring about Blue's well-being.\n",
      "    - self-revelation: Green reveals that they are in a positive state of mind and are engaged in leisure activities, suggesting they value relaxation and enjoyment.\n",
      "    - appeal: Green wants Blue to share how they are doing, encouraging further interaction and maintaining the flow of conversation.\n",
      "    - linked to: [#1]\n"
     ]
    }
   ],
   "source": [
    "ai_rich_message: RichChatMessage = infer_four_sides_analysis(ai_chat_message)\n",
    "mock_chat.add_message(ai_rich_message)"
   ]
  },
  {
   "cell_type": "code",
   "execution_count": 24,
   "metadata": {},
   "outputs": [],
   "source": [
    "class ResponseModel(BaseModel):\n",
    "    decision: bool\n",
    "    argumentation: str\n",
    "    final_decision: bool\n",
    "\n",
    "def is_response_needed(chat_ref: Chat) -> ResponseModel:\n",
    "    response = client.beta.chat.completions.parse(\n",
    "        model=BASE_MODEL,\n",
    "        messages=[\n",
    "            {\n",
    "            \"role\": \"system\",\n",
    "            \"content\": \"\"\"Your are observing a chat in the Turing Game.\n",
    "\n",
    "{game_description}\n",
    "\"\"\".format(\n",
    "                user=chat_ref.bot,\n",
    "                game_description=prompts.GAME.GAME_DESCRIPTION\n",
    "            )\n",
    "            },\n",
    "            {\n",
    "                \"role\": \"user\",\n",
    "                \"content\": \"\"\"Based on the current Chat history, decide whether user {user} currently has a need to reply.\n",
    "\n",
    "                # Users online in the chat\n",
    "                {participants}\n",
    "                \n",
    "                # Chat History\n",
    "                {chat_history}\"\"\".format(\n",
    "                    user=chat_ref.bot,\n",
    "                    chat_history=chat_ref.get_formatted_chat_history(5),\n",
    "                    participants=chat_ref.format_participants()\n",
    "                )\n",
    "            }\n",
    "        ],\n",
    "        temperature=TEMPERATURE,\n",
    "        response_format=ResponseModel   \n",
    "    )\n",
    "    message: ParsedChatCompletionMessage[ResponseModel] = response.choices[0].message\n",
    "    if message.parsed:\n",
    "        bot_response: ResponseModel = message.parsed\n",
    "    return bot_response"
   ]
  },
  {
   "cell_type": "code",
   "execution_count": 25,
   "metadata": {},
   "outputs": [],
   "source": [
    "resp = is_response_needed(mock_chat)"
   ]
  },
  {
   "cell_type": "code",
   "execution_count": 26,
   "metadata": {},
   "outputs": [
    {
     "name": "stdout",
     "output_type": "stream",
     "text": [
      "False\n",
      "Green has already responded to Blue's initial greeting and question about well-being. Therefore, there is no immediate need for Green to reply again unless prompted by another message or if they feel compelled to continue the conversation.\n",
      "False\n"
     ]
    }
   ],
   "source": [
    "print(resp.decision)\n",
    "print(resp.argumentation)\n",
    "print(resp.final_decision)"
   ]
  },
  {
   "cell_type": "code",
   "execution_count": 28,
   "metadata": {},
   "outputs": [
    {
     "name": "stdout",
     "output_type": "stream",
     "text": [
      "Based on the current Chat history, decide whether user Green currently has a need to reply.\n",
      "\n",
      "# Users online in the chat\n",
      "Blue, Purple, Green\n",
      "\n",
      "# Chat History\n",
      "Start Time: 2024-12-17 10:03:00\n",
      "#MessageId User (Seconds since last message): Message\n",
      "#1 Blue (2284s ago): Hey everyone, how are you doing today?\n",
      "    - directed to: Purple, Green\n",
      "    - factual info: Blue is greeting the group and inquiring about their well-being.\n",
      "    - self-revelation: Blue is friendly and interested in the feelings and states of others, indicating a desire for social connection.\n",
      "    - appeal: Blue wants Purple and Green to respond and share how they are feeling today.\n",
      "    \n",
      "#2 Green (2288s ago): doing good, just enjoying a lazy morning. how about you?\n",
      "    - directed to: Blue, Purple\n",
      "    - factual info: Green is doing well and is enjoying a lazy morning while inquiring about Blue's well-being.\n",
      "    - self-revelation: Green reveals a relaxed and content state, indicating a preference for a laid-back lifestyle and openness to share personal feelings.\n",
      "    - appeal: Green wants Blue and Purple to share their own experiences or feelings, particularly about their own state of being.\n",
      "    - linked to: [#1]\n"
     ]
    }
   ],
   "source": [
    "print(\"\"\"Based on the current Chat history, decide whether user {user} currently has a need to reply.\n",
    "\n",
    "# Users online in the chat\n",
    "{participants}\n",
    "\n",
    "# Chat History\n",
    "{chat_history}\"\"\".format(\n",
    "    user=mock_chat.bot,\n",
    "    chat_history=mock_chat.get_formatted_chat_history(5),\n",
    "    participants=mock_chat.format_participants()\n",
    "))"
   ]
  },
  {
   "cell_type": "code",
   "execution_count": null,
   "metadata": {},
   "outputs": [],
   "source": [
    "# Local Response Objective\n",
    "# A numerical value that indicates whether the current objective to respond is met.\n",
    "# Decreases expoentially depending on whether how many message have been sent by the AI user in a rolling window of 5 messages.\n",
    "# maximum is 1.0: the AI user should respond.\n",
    "# minimum is 0.0: the AI user should not respond at all.\n",
    "# the final decision is based on a random number between 0 and 1 and whether this number is less than the local response objective.\n",
    "\n",
    "# Passed Time Objective\n",
    "# increases linearly with passed time since the last message was sent and message density in a rolling window of 7 messages.\n"
   ]
  }
 ],
 "metadata": {
  "kernelspec": {
   "display_name": ".venv",
   "language": "python",
   "name": "python3"
  },
  "language_info": {
   "codemirror_mode": {
    "name": "ipython",
    "version": 3
   },
   "file_extension": ".py",
   "mimetype": "text/x-python",
   "name": "python",
   "nbconvert_exporter": "python",
   "pygments_lexer": "ipython3",
   "version": "3.12.7"
  }
 },
 "nbformat": 4,
 "nbformat_minor": 2
}
