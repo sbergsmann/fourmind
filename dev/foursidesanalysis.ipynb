{
 "cells": [
  {
   "cell_type": "code",
   "execution_count": 1,
   "metadata": {},
   "outputs": [],
   "source": [
    "from pydantic import *\n",
    "from openai import OpenAI\n",
    "from openai.types.chat import ParsedChatCompletion, ParsedChatCompletionMessage\n",
    "from typing import *\n",
    "import os\n",
    "from datetime import timedelta as TimeDelta\n",
    "import sys\n",
    "from dotenv import load_dotenv\n",
    "load_dotenv()\n",
    "\n",
    "APP_ROOT_DIR: str = \"../\"\n",
    "sys.path.append(APP_ROOT_DIR)\n",
    "\n",
    "from bot.models.chat import ChatMessage, Chat, RichChatMessage\n",
    "from bot.models.output import FourSidesAnalysis\n",
    "from bot.common import MessageFactory"
   ]
  },
  {
   "cell_type": "code",
   "execution_count": 2,
   "metadata": {},
   "outputs": [],
   "source": [
    "SENDER: str = \"\"\"The sender of the message,\n",
    "which must be one of the three participants in the current chat\n",
    "that sent this message.\n",
    "\"\"\"\n",
    "\n",
    "RECEIVER: str = \"\"\"The recipient of the message,\n",
    "which must be one of the three participants in the current chat or\n",
    "any combination of them if it is not clear based on the chat history and context\n",
    "to whom this message was directed.\n",
    "\"\"\"\n",
    "\n",
    "FACTUAL: str = \"\"\"The factual information side of the message,\n",
    "representing the data and facts conveyed.\n",
    "\"\"\"\n",
    "\n",
    "RELEVATION: str = \"\"\"The self-revelation side of the message,\n",
    "indicating what the sender reveals about themselves\n",
    "\"\"\"\n",
    "\n",
    "RELATIONSHIP: str = \"\"\"The relationship side of the message,\n",
    "reflecting the sender's view of their relationship with the receiver\n",
    "\"\"\"\n",
    "\n",
    "APPEAL: str = \"\"\"The appeal side of the message,\n",
    "expressing what the sender wants the receiver to do or think\n",
    "\"\"\"\n",
    "\n",
    "MESSAGES: str = \"\"\"Which potential messages does the current message refer to?\n",
    "To which message is the current message a response?\n",
    "To minimize ambiguity, never link all messages in a chat.\n",
    "Message IDs should be used to refer to messages.\"\"\""
   ]
  },
  {
   "cell_type": "code",
   "execution_count": 3,
   "metadata": {},
   "outputs": [],
   "source": [
    "# class FourSidesAnalysis(BaseModel):\n",
    "#     sender: str = Field(\n",
    "#         description=SENDER\n",
    "#     )\n",
    "#     receiver: List[str] = Field(\n",
    "#         description=RECEIVER\n",
    "#     )\n",
    "#     factual_information: str = Field(\n",
    "#         description=FACTUAL\n",
    "#     )\n",
    "#     self_revelation: str = Field(\n",
    "#         description=RELEVATION\n",
    "#     )\n",
    "#     relationship: str = Field(\n",
    "#         description=RELATIONSHIP\n",
    "#     )\n",
    "#     appeal: str = Field(\n",
    "#         description=APPEAL\n",
    "#     )\n",
    "#     linked_messages: List[int] = Field(\n",
    "#         description=MESSAGES\n",
    "#     )\n"
   ]
  },
  {
   "cell_type": "code",
   "execution_count": 4,
   "metadata": {},
   "outputs": [
    {
     "name": "stdout",
     "output_type": "stream",
     "text": [
      "OpenAI API Key: sk-pr...2i8A\n"
     ]
    }
   ],
   "source": [
    "api_key: str| None = os.getenv(\"OPENAI_API_KEY\")\n",
    "assert api_key is not None, \"Please set the OPENAI_API_KEY environment variable\"\n",
    "print(f\"OpenAI API Key: {api_key[:5]}...{api_key[-4:]}\")\n",
    "client: OpenAI = OpenAI(api_key=api_key)"
   ]
  },
  {
   "cell_type": "code",
   "execution_count": 5,
   "metadata": {},
   "outputs": [],
   "source": [
    "GAME_DESCRIPTION: str = \"\"\"The Turing Game, inspired by Alan Turing's Imitation Game, is a game where two human users and one AI chat with each other.\n",
    "The goal of the game is for the human users to identify the AI chat participant. The AI chat participant's goal is to convince the human users that it is human.\n",
    "The game is over when two human users collectively decide to vote out the AI chat participant. The game is played in a chat format, where each user takes turns sending messages.\n",
    "The AI chat participant is programmed to mimic human behavior and respond to messages in a way that is indistinguishable from a human user.\n",
    "The human users are aware that one of the chat participants is an AI, but they do not know which one.\n",
    "Similarly, the AI chat participant is aware that it is the AI and that the other participants are human.\n",
    "\"\"\"\n",
    "\n",
    "SYSTEM: str = \"\"\"You are a therapist and psychoanalyst. You are excelling in analyzing a message according to\n",
    "the four sides model of Friedemann Schulz von Tuhn. Those four sides are:\n",
    "- The factual information side: representing the data and facts conveyed.\n",
    "- The self-revelation side: indicating what the sender reveals about themselves.\n",
    "- The relationship side: reflecting the sender's view of their relationship with the receiver.\n",
    "- The appeal side: expressing what the sender wants the receiver to do or think.\n",
    "\n",
    "The goal is to analyze the message and provide a detailed analysis of the message based on the four sides model.\n",
    "All messages are part of a game called the Turing Game:\n",
    "{game_description}\n",
    "\"\"\"\n",
    "\n",
    "INSTRUCTION: str = \"\"\"Analyze the following message - potentially given a chat history - in the context of the Turing Game.\n",
    "\n",
    "### Participants\n",
    "{participants}\n",
    "\n",
    "### Chat History\n",
    "{chat_history}\n",
    "\n",
    "### Message\n",
    "{message}\n",
    "\"\"\""
   ]
  },
  {
   "cell_type": "code",
   "execution_count": 6,
   "metadata": {},
   "outputs": [],
   "source": [
    "BASE_MODEL: str = \"gpt-4o-mini-2024-07-18\"\n",
    "TEMPERATURE: float = 0.65\n",
    "RESPONSE_FORMAT = FourSidesAnalysis"
   ]
  },
  {
   "cell_type": "code",
   "execution_count": 7,
   "metadata": {},
   "outputs": [],
   "source": [
    "mock_chat: Chat = Chat(\n",
    "    id=12345678,\n",
    "    player1=\"Blue\",\n",
    "    player2=\"Purple\",\n",
    "    bot=\"Green\",\n",
    "    language=\"en\",\n",
    ")\n",
    "message1 = ChatMessage(\n",
    "    id=1,\n",
    "    user=\"Blue\",\n",
    "    message=\"Hey everyone, how are you doing today?\",\n",
    "    message_timedelta=TimeDelta(seconds=3)\n",
    ")\n",
    "message2 = ChatMessage(\n",
    "    id=2,\n",
    "    user=\"Purple\",\n",
    "    message=\"Hi, im fine thanks\",\n",
    "    message_timedelta=TimeDelta(seconds=5)\n",
    ")\n",
    "message3 = ChatMessage(\n",
    "    id=3,\n",
    "    user=\"Green\",\n",
    "    message=\"me too\",\n",
    "    message_timedelta=TimeDelta(seconds=1)\n",
    ")\n",
    "message4 = ChatMessage(\n",
    "    id=4,\n",
    "    user=\"Blue\",\n",
    "    message=\"everyone happy, good\",\n",
    "    message_timedelta=TimeDelta(seconds=5)\n",
    ")\n",
    "message5 = ChatMessage(\n",
    "    id=5,\n",
    "    user=\"Purple\",\n",
    "    message=\"but i am feeling a bit down today\",\n",
    "    message_timedelta=TimeDelta(seconds=4)\n",
    ")"
   ]
  },
  {
   "cell_type": "code",
   "execution_count": 8,
   "metadata": {},
   "outputs": [
    {
     "name": "stdout",
     "output_type": "stream",
     "text": [
      "You are a therapist and psychoanalyst. You are excelling in analyzing a message according to\n",
      "the four sides model of Friedemann Schulz von Tuhn. Those four sides are:\n",
      "- The factual information side: representing the data and facts conveyed.\n",
      "- The self-revelation side: indicating what the sender reveals about themselves.\n",
      "- The relationship side: reflecting the sender's view of their relationship with the receiver.\n",
      "- The appeal side: expressing what the sender wants the receiver to do or think.\n",
      "\n",
      "The goal is to analyze the message and provide a detailed analysis of the message based on the four sides model.\n",
      "All messages are part of a game called the Turing Game:\n",
      "The Turing Game, inspired by Alan Turing's Imitation Game, is a game where two human users and one AI chat with each other.\n",
      "The goal of the game is for the human users to identify the AI chat participant. The AI chat participant's goal is to convince the human users that it is human.\n",
      "The game is over when two human users collectively decide to vote out the AI chat participant. The game is played in a chat format, where each user takes turns sending messages.\n",
      "The AI chat participant is programmed to mimic human behavior and respond to messages in a way that is indistinguishable from a human user.\n",
      "The human users are aware that one of the chat participants is an AI, but they do not know which one.\n",
      "Similarly, the AI chat participant is aware that it is the AI and that the other participants are human.\n",
      "\n",
      "\n",
      "Analyze the following message - potentially given a chat history - in the context of the Turing Game.\n",
      "\n",
      "### Participants\n",
      "Blue, Purple, Green\n",
      "\n",
      "### Chat History\n",
      "Start Time: 2024-11-27 14:39:00\n",
      "#MessageId User (Seconds since last message): Message\n",
      "\n",
      "\n",
      "### Message\n",
      "[#1] Blue (after 3s): Hey everyone, how are you doing today?\n",
      "\n"
     ]
    }
   ],
   "source": [
    "\n",
    "print(SYSTEM.format(game_description=GAME_DESCRIPTION))\n",
    "print(INSTRUCTION.format(\n",
    "    participants=mock_chat.format_participants(),\n",
    "    chat_history=mock_chat.get_formatted_chat_history(),\n",
    "    message=str(message1)\n",
    "))"
   ]
  },
  {
   "cell_type": "code",
   "execution_count": 9,
   "metadata": {},
   "outputs": [],
   "source": [
    "def infer_four_sides_analysis(incoming_chat_message: ChatMessage) -> RichChatMessage:\n",
    "    response = client.beta.chat.completions.parse(\n",
    "        model=BASE_MODEL,\n",
    "        messages=[\n",
    "            {\n",
    "            \"role\": \"system\",\n",
    "            \"content\": SYSTEM\n",
    "            },\n",
    "            {\n",
    "                \"role\": \"user\",\n",
    "                \"content\": INSTRUCTION.format(\n",
    "                    participants=mock_chat.format_participants(),\n",
    "                    chat_history=mock_chat.get_formatted_chat_history(),\n",
    "                    message=str(incoming_chat_message)\n",
    "                )\n",
    "            }\n",
    "        ],\n",
    "        temperature=TEMPERATURE,\n",
    "        response_format=RESPONSE_FORMAT   \n",
    "    )\n",
    "    message: ParsedChatCompletionMessage[RESPONSE_FORMAT] = response.choices[0].message\n",
    "    if message.parsed:\n",
    "        print(\"Parsed Response:\")\n",
    "        print(message.parsed)\n",
    "        analysis_response: RESPONSE_FORMAT = message.parsed\n",
    "    rich_message: RichChatMessage = MessageFactory.transform_message(incoming_chat_message, analysis_response)\n",
    "    return rich_message"
   ]
  },
  {
   "cell_type": "code",
   "execution_count": 10,
   "metadata": {},
   "outputs": [
    {
     "name": "stdout",
     "output_type": "stream",
     "text": [
      "Parsed Response:\n",
      "sender='Blue' receivers=['Purple', 'Green'] factual_information='Blue is greeting Purple and Green and asking how they are doing today.' self_revelation='Blue is friendly and interested in the well-being of others.' relationship='Blue views Purple and Green as peers or friends and wishes to engage with them.' appeal='Blue wants Purple and Green to respond and share their feelings or experiences from the day.' linked_messages=[]\n",
      "Parsed Response:\n",
      "sender='Purple' receivers=['Blue', 'Green'] factual_information=\"Purple is responding to Blue's greeting and indicating their well-being by stating they are fine.\" self_revelation=\"Purple is polite and acknowledges Blue's inquiry, showing that they are in a good state.\" relationship=\"Purple's response indicates a friendly relationship with Blue, as they engage in the conversation.\" appeal='Purple is likely encouraging further conversation by providing a positive response, inviting Blue and Green to continue the interaction.' linked_messages=[1]\n",
      "Parsed Response:\n",
      "sender='Green' receivers=['Blue', 'Purple'] factual_information=\"Green is responding to Blue's greeting and expressing that they are also fine, similar to Purple.\" self_revelation=\"Green is friendly and agrees with Purple's response, indicating they are in a good mood.\" relationship=\"Green's response suggests a positive relationship with Blue and Purple, indicating comfort in the group dynamic.\" appeal='Green wants Blue and Purple to know they are also doing well and likely encourages further conversation.' linked_messages=[1, 2]\n",
      "Parsed Response:\n",
      "sender='Blue' receivers=['Purple', 'Green'] factual_information='Blue is observing and stating that everyone seems to be happy and expressing approval of the current mood.' self_revelation='Blue is optimistic and values a positive atmosphere in the conversation, indicating a desire to maintain this positivity.' relationship='Blue perceives the interaction with Purple and Green as friendly and positive, suggesting they share a comfortable rapport.' appeal='Blue wants Purple and Green to acknowledge this positive mood and perhaps continue engaging in a cheerful manner.' linked_messages=[1, 2, 3]\n",
      "Parsed Response:\n",
      "sender='Purple' receivers=['Blue', 'Green'] factual_information='Purple is stating that they are feeling down today, despite previously indicating they were fine.' self_revelation='Purple reveals vulnerability and honesty about their emotional state, indicating they are comfortable sharing their true feelings with the group.' relationship=\"Purple's message suggests a level of trust and openness with Blue and Green, indicating that they feel safe to express their true emotions in this group setting.\" appeal='Purple may be seeking empathy and support from Blue and Green, encouraging them to respond with understanding or to engage in a deeper conversation about their feelings.' linked_messages=[2, 3]\n"
     ]
    }
   ],
   "source": [
    "for message in [message1, message2, message3, message4, message5]:\n",
    "    rich_message: RichChatMessage = infer_four_sides_analysis(message)\n",
    "    mock_chat.add_message(rich_message)"
   ]
  },
  {
   "cell_type": "code",
   "execution_count": 12,
   "metadata": {},
   "outputs": [
    {
     "name": "stdout",
     "output_type": "stream",
     "text": [
      "Start Time: 2024-11-27 14:39:00\n",
      "#MessageId User (Seconds since last message): Message\n",
      "#1 Blue (after 3s): Hey everyone, how are you doing today?\n",
      "    - directed to: Purple, Green\n",
      "    - factual info: Blue is greeting Purple and Green and asking how they are doing today.\n",
      "    - self-revelation: Blue is friendly and interested in the well-being of others.\n",
      "    - appeal: Blue wants Purple and Green to respond and share their feelings or experiences from the day.\n",
      "    \n",
      "#2 Purple (after 5s): Hi, im fine thanks\n",
      "    - directed to: Blue, Green\n",
      "    - factual info: Purple is responding to Blue's greeting and indicating their well-being by stating they are fine.\n",
      "    - self-revelation: Purple is polite and acknowledges Blue's inquiry, showing that they are in a good state.\n",
      "    - appeal: Purple is likely encouraging further conversation by providing a positive response, inviting Blue and Green to continue the interaction.\n",
      "    - linked to: [#1]\n",
      "#3 Green (after 1s): me too\n",
      "    - directed to: Blue, Purple\n",
      "    - factual info: Green is responding to Blue's greeting and expressing that they are also fine, similar to Purple.\n",
      "    - self-revelation: Green is friendly and agrees with Purple's response, indicating they are in a good mood.\n",
      "    - appeal: Green wants Blue and Purple to know they are also doing well and likely encourages further conversation.\n",
      "    - linked to: [#1, #2]\n",
      "#4 Blue (after 5s): everyone happy, good\n",
      "    - directed to: Purple, Green\n",
      "    - factual info: Blue is observing and stating that everyone seems to be happy and expressing approval of the current mood.\n",
      "    - self-revelation: Blue is optimistic and values a positive atmosphere in the conversation, indicating a desire to maintain this positivity.\n",
      "    - appeal: Blue wants Purple and Green to acknowledge this positive mood and perhaps continue engaging in a cheerful manner.\n",
      "    - linked to: [#1, #2, #3]\n",
      "#5 Purple (after 4s): but i am feeling a bit down today\n",
      "    - directed to: Blue, Green\n",
      "    - factual info: Purple is stating that they are feeling down today, despite previously indicating they were fine.\n",
      "    - self-revelation: Purple reveals vulnerability and honesty about their emotional state, indicating they are comfortable sharing their true feelings with the group.\n",
      "    - appeal: Purple may be seeking empathy and support from Blue and Green, encouraging them to respond with understanding or to engage in a deeper conversation about their feelings.\n",
      "    - linked to: [#2, #3]\n"
     ]
    }
   ],
   "source": [
    "print(mock_chat.get_formatted_chat_history())"
   ]
  },
  {
   "cell_type": "code",
   "execution_count": null,
   "metadata": {},
   "outputs": [],
   "source": [
    "class Objective(BaseModel):\n",
    "    \"\"\"Define an Objective given the current chat history for the next message of the bot\"\"\"\n",
    "    important_messages: List[int] = Field(\n",
    "        description=\"Which messages are currently relevant and important to consider for the next message of the bot? Consider all messages including those of the bot.\"\n",
    "    )\n",
    "    objective_summary: str = Field(\n",
    "        description=\"What is the current objective for the next message of the bot to be achieved given the most important messages?\"\n",
    "    )"
   ]
  }
 ],
 "metadata": {
  "kernelspec": {
   "display_name": ".venv",
   "language": "python",
   "name": "python3"
  },
  "language_info": {
   "codemirror_mode": {
    "name": "ipython",
    "version": 3
   },
   "file_extension": ".py",
   "mimetype": "text/x-python",
   "name": "python",
   "nbconvert_exporter": "python",
   "pygments_lexer": "ipython3",
   "version": "3.12.7"
  }
 },
 "nbformat": 4,
 "nbformat_minor": 2
}
